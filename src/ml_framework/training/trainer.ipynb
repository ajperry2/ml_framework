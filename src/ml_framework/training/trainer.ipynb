{
 "cells": [
  {
   "cell_type": "code",
   "execution_count": 1,
   "id": "e5a710c8-8435-4c5a-9fe3-5da8df4d14ae",
   "metadata": {},
   "outputs": [
    {
     "name": "stderr",
     "output_type": "stream",
     "text": [
      "/home/alan/miniconda3/envs/ml_gpu/lib/python3.9/site-packages/torchvision/io/image.py:13: UserWarning: Failed to load image Python extension: '/home/alan/miniconda3/envs/ml_gpu/lib/python3.9/site-packages/torchvision/image.so: undefined symbol: _ZN3c1017RegisterOperatorsD1Ev'If you don't plan on using image functionality from `torchvision.io`, you can ignore this warning. Otherwise, there might be something wrong with your environment. Did you have `libjpeg` or `libpng` installed before building `torchvision` from source?\n",
      "  warn(\n"
     ]
    }
   ],
   "source": [
    "from __future__ import print_function\n",
    "import torch\n",
    "import torch.nn as nn\n",
    "import torch.nn.functional as F\n",
    "import torch.optim as optim\n",
    "from torchvision import datasets, transforms\n",
    "from torch.optim.lr_scheduler import StepLR\n",
    "from torch.nn.modules.loss import NLLLoss\n",
    "import shutil\n",
    "import sys\n",
    "sys.path.append(\"../..\") # Path way to library root"
   ]
  },
  {
   "cell_type": "code",
   "execution_count": 2,
   "id": "07a1e691-31a6-4ee2-bdc9-398dbdc1aa98",
   "metadata": {},
   "outputs": [
    {
     "name": "stdout",
     "output_type": "stream",
     "text": [
      "/home/alan/miniconda3/envs/ml_gpu/bin/python\n"
     ]
    }
   ],
   "source": [
    "!which python"
   ]
  },
  {
   "cell_type": "code",
   "execution_count": 3,
   "id": "daff22af-9da3-43a4-b33f-e3543cf9ba12",
   "metadata": {},
   "outputs": [],
   "source": [
    "\n",
    "from ml_framework.modeling.architectures.mlp import MLP"
   ]
  },
  {
   "cell_type": "code",
   "execution_count": 4,
   "id": "5dca2f09-b90d-4f55-911c-463cd46a11d4",
   "metadata": {},
   "outputs": [],
   "source": [
    "loss_function = NLLLoss()"
   ]
  },
  {
   "cell_type": "code",
   "execution_count": 5,
   "id": "e0dd8739-b9bc-4478-ac14-131d48f8e221",
   "metadata": {},
   "outputs": [
    {
     "data": {
      "text/plain": [
       "True"
      ]
     },
     "execution_count": 5,
     "metadata": {},
     "output_type": "execute_result"
    }
   ],
   "source": [
    "use_cuda = torch.cuda.is_available()\n",
    "use_cuda"
   ]
  },
  {
   "cell_type": "code",
   "execution_count": 32,
   "id": "e9acef12-4449-4533-a2f0-13dcc97c2f22",
   "metadata": {},
   "outputs": [],
   "source": [
    "use_cuda = torch.cuda.is_available()\n",
    "if use_cuda:\n",
    "    device = torch.device(\"cuda\")\n",
    "else:\n",
    "    device = torch.device(\"cpu\")\n",
    "\n",
    "batch_size = 64\n",
    "test_batch_size = 64\n",
    "lr = 0.01\n",
    "gamma = 0.5\n",
    "\n",
    "train_kwargs = {'batch_size': batch_size}\n",
    "test_kwargs = {'batch_size': test_batch_size}\n",
    "if use_cuda:\n",
    "    cuda_kwargs = {'num_workers': 1,\n",
    "                   'pin_memory': True,\n",
    "                   'shuffle': True}\n",
    "    train_kwargs.update(cuda_kwargs)\n",
    "    test_kwargs.update(cuda_kwargs)\n",
    "transform = transforms.Compose([\n",
    "    transforms.ToTensor(),\n",
    "    transforms.Normalize((0.1307,), (0.3081,)),\n",
    "    torch.flatten\n",
    "    ])\n",
    "dataset1 = datasets.MNIST(\n",
    "    './data',\n",
    "    train=True,\n",
    "    download=True,\n",
    "    transform=transform)\n",
    "dataset2 = datasets.MNIST(\n",
    "    './data',\n",
    "    train=False,\n",
    "    transform=transform)\n",
    "train_loader = torch.utils.data.DataLoader(dataset1, **train_kwargs)\n",
    "test_loader = torch.utils.data.DataLoader(dataset2, **test_kwargs)\n",
    "model = MLP(\n",
    "    784,\n",
    "    10,\n",
    "    latent_sizes=[10, 10],\n",
    "    activation_names=[\"ReLU\", \"ReLU\"],\n",
    "    activation_parameters= [[], []],\n",
    "    dropout_levels=[0.02, 0.02],\n",
    ")\n",
    "optimizer = optim.Adadelta(model.parameters(), lr=lr)\n",
    "scheduler = StepLR(optimizer, step_size=1, gamma=gamma)\n"
   ]
  },
  {
   "cell_type": "code",
   "execution_count": 33,
   "id": "83c9e90e-0cf5-48ed-9017-ad64b5ade645",
   "metadata": {},
   "outputs": [],
   "source": [
    "from ml_framework.training.trainer import Trainer\n",
    "Trainer().train(\n",
    "    model=model,\n",
    "    train_dataloader=train_loader,\n",
    "    test_dataloader=test_loader,\n",
    "    optimizer=optimizer,\n",
    "    loss_function=loss_function,\n",
    "    epochs=10,\n",
    "    steps_per_test=100,\n",
    "    learning_rate_scheduler=scheduler,\n",
    ")"
   ]
  },
  {
   "cell_type": "code",
   "execution_count": 10,
   "id": "88dc39d5-12c5-44ad-9aeb-c7d1b5f8950e",
   "metadata": {},
   "outputs": [],
   "source": [
    "shutil.rmtree('data')"
   ]
  },
  {
   "cell_type": "code",
   "execution_count": null,
   "id": "17e9777c-ec83-493b-90c1-bef1bc954498",
   "metadata": {},
   "outputs": [],
   "source": []
  }
 ],
 "metadata": {
  "kernelspec": {
   "display_name": "Python 3 (ipykernel)",
   "language": "python",
   "name": "python3"
  },
  "language_info": {
   "codemirror_mode": {
    "name": "ipython",
    "version": 3
   },
   "file_extension": ".py",
   "mimetype": "text/x-python",
   "name": "python",
   "nbconvert_exporter": "python",
   "pygments_lexer": "ipython3",
   "version": "3.9.19"
  }
 },
 "nbformat": 4,
 "nbformat_minor": 5
}
