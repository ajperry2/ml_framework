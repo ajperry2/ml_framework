{
 "cells": [
  {
   "cell_type": "code",
   "execution_count": 12,
   "id": "64ca1f40-ff43-4b82-8217-1ac303cbb213",
   "metadata": {},
   "outputs": [
    {
     "name": "stdout",
     "output_type": "stream",
     "text": [
      "Collecting git+https://github.com/HTenkanen/pyrosm.git@v0.6.2\n",
      "  Cloning https://github.com/HTenkanen/pyrosm.git (to revision v0.6.2) to /tmp/pip-req-build-hkoj2ca4\n",
      "  Running command git clone --filter=blob:none --quiet https://github.com/HTenkanen/pyrosm.git /tmp/pip-req-build-hkoj2ca4\n",
      "  Running command git checkout -q 2b9606034353606ab0e9bf59416826975703a172\n",
      "  Resolved https://github.com/HTenkanen/pyrosm.git to commit 2b9606034353606ab0e9bf59416826975703a172\n",
      "  Installing build dependencies ... \u001b[?25ldone\n",
      "\u001b[?25h  Getting requirements to build wheel ... \u001b[?25ldone\n",
      "\u001b[?25h  Preparing metadata (pyproject.toml) ... \u001b[?25ldone\n",
      "\u001b[?25hRequirement already satisfied: python-rapidjson in /home/alan/miniconda3/envs/ml_gpu/lib/python3.9/site-packages (from pyrosm==0.6.2) (1.17)\n",
      "Requirement already satisfied: setuptools>=18.0 in /home/alan/miniconda3/envs/ml_gpu/lib/python3.9/site-packages (from pyrosm==0.6.2) (69.5.1)\n",
      "Requirement already satisfied: geopandas>=0.12.0 in /home/alan/miniconda3/envs/ml_gpu/lib/python3.9/site-packages (from pyrosm==0.6.2) (0.14.4)\n",
      "Requirement already satisfied: shapely>=2.0.1 in /home/alan/miniconda3/envs/ml_gpu/lib/python3.9/site-packages (from pyrosm==0.6.2) (2.0.4)\n",
      "Requirement already satisfied: cykhash in /home/alan/miniconda3/envs/ml_gpu/lib/python3.9/site-packages (from pyrosm==0.6.2) (2.0.1)\n",
      "Requirement already satisfied: pyrobuf in /home/alan/miniconda3/envs/ml_gpu/lib/python3.9/site-packages (from pyrosm==0.6.2) (0.9.3)\n",
      "Requirement already satisfied: fiona>=1.8.21 in /home/alan/miniconda3/envs/ml_gpu/lib/python3.9/site-packages (from geopandas>=0.12.0->pyrosm==0.6.2) (1.9.6)\n",
      "Requirement already satisfied: numpy>=1.22 in /home/alan/miniconda3/envs/ml_gpu/lib/python3.9/site-packages (from geopandas>=0.12.0->pyrosm==0.6.2) (1.26.4)\n",
      "Requirement already satisfied: packaging in /home/alan/miniconda3/envs/ml_gpu/lib/python3.9/site-packages (from geopandas>=0.12.0->pyrosm==0.6.2) (23.2)\n",
      "Requirement already satisfied: pandas>=1.4.0 in /home/alan/miniconda3/envs/ml_gpu/lib/python3.9/site-packages (from geopandas>=0.12.0->pyrosm==0.6.2) (2.2.2)\n",
      "Requirement already satisfied: pyproj>=3.3.0 in /home/alan/miniconda3/envs/ml_gpu/lib/python3.9/site-packages (from geopandas>=0.12.0->pyrosm==0.6.2) (3.6.1)\n",
      "Requirement already satisfied: jinja2>=2.8 in /home/alan/miniconda3/envs/ml_gpu/lib/python3.9/site-packages (from pyrobuf->pyrosm==0.6.2) (3.1.4)\n",
      "Requirement already satisfied: cython>=0.23 in /home/alan/miniconda3/envs/ml_gpu/lib/python3.9/site-packages (from pyrobuf->pyrosm==0.6.2) (3.0.10)\n",
      "Requirement already satisfied: attrs>=19.2.0 in /home/alan/miniconda3/envs/ml_gpu/lib/python3.9/site-packages (from fiona>=1.8.21->geopandas>=0.12.0->pyrosm==0.6.2) (23.1.0)\n",
      "Requirement already satisfied: certifi in /home/alan/miniconda3/envs/ml_gpu/lib/python3.9/site-packages (from fiona>=1.8.21->geopandas>=0.12.0->pyrosm==0.6.2) (2024.2.2)\n",
      "Requirement already satisfied: click~=8.0 in /home/alan/miniconda3/envs/ml_gpu/lib/python3.9/site-packages (from fiona>=1.8.21->geopandas>=0.12.0->pyrosm==0.6.2) (8.1.7)\n",
      "Requirement already satisfied: click-plugins>=1.0 in /home/alan/miniconda3/envs/ml_gpu/lib/python3.9/site-packages (from fiona>=1.8.21->geopandas>=0.12.0->pyrosm==0.6.2) (1.1.1)\n",
      "Requirement already satisfied: cligj>=0.5 in /home/alan/miniconda3/envs/ml_gpu/lib/python3.9/site-packages (from fiona>=1.8.21->geopandas>=0.12.0->pyrosm==0.6.2) (0.7.2)\n",
      "Requirement already satisfied: six in /home/alan/miniconda3/envs/ml_gpu/lib/python3.9/site-packages (from fiona>=1.8.21->geopandas>=0.12.0->pyrosm==0.6.2) (1.16.0)\n",
      "Requirement already satisfied: importlib-metadata in /home/alan/miniconda3/envs/ml_gpu/lib/python3.9/site-packages (from fiona>=1.8.21->geopandas>=0.12.0->pyrosm==0.6.2) (7.0.1)\n",
      "Requirement already satisfied: MarkupSafe>=2.0 in /home/alan/miniconda3/envs/ml_gpu/lib/python3.9/site-packages (from jinja2>=2.8->pyrobuf->pyrosm==0.6.2) (2.1.3)\n",
      "Requirement already satisfied: python-dateutil>=2.8.2 in /home/alan/miniconda3/envs/ml_gpu/lib/python3.9/site-packages (from pandas>=1.4.0->geopandas>=0.12.0->pyrosm==0.6.2) (2.9.0.post0)\n",
      "Requirement already satisfied: pytz>=2020.1 in /home/alan/miniconda3/envs/ml_gpu/lib/python3.9/site-packages (from pandas>=1.4.0->geopandas>=0.12.0->pyrosm==0.6.2) (2024.1)\n",
      "Requirement already satisfied: tzdata>=2022.7 in /home/alan/miniconda3/envs/ml_gpu/lib/python3.9/site-packages (from pandas>=1.4.0->geopandas>=0.12.0->pyrosm==0.6.2) (2024.1)\n",
      "Requirement already satisfied: zipp>=0.5 in /home/alan/miniconda3/envs/ml_gpu/lib/python3.9/site-packages (from importlib-metadata->fiona>=1.8.21->geopandas>=0.12.0->pyrosm==0.6.2) (3.17.0)\n"
     ]
    }
   ],
   "source": [
    "!pip install git+https://github.com/HTenkanen/pyrosm.git@v0.6.2"
   ]
  },
  {
   "cell_type": "code",
   "execution_count": 13,
   "id": "4f5932b0-4feb-4762-bc98-c4b6cbc2262c",
   "metadata": {},
   "outputs": [
    {
     "name": "stdout",
     "output_type": "stream",
     "text": [
      "Requirement already satisfied: matplotlib in /home/alan/miniconda3/envs/ml_gpu/lib/python3.9/site-packages (3.8.4)\n",
      "Requirement already satisfied: contourpy>=1.0.1 in /home/alan/miniconda3/envs/ml_gpu/lib/python3.9/site-packages (from matplotlib) (1.2.0)\n",
      "Requirement already satisfied: cycler>=0.10 in /home/alan/miniconda3/envs/ml_gpu/lib/python3.9/site-packages (from matplotlib) (0.11.0)\n",
      "Requirement already satisfied: fonttools>=4.22.0 in /home/alan/miniconda3/envs/ml_gpu/lib/python3.9/site-packages (from matplotlib) (4.51.0)\n",
      "Requirement already satisfied: kiwisolver>=1.3.1 in /home/alan/miniconda3/envs/ml_gpu/lib/python3.9/site-packages (from matplotlib) (1.4.4)\n",
      "Requirement already satisfied: numpy>=1.21 in /home/alan/miniconda3/envs/ml_gpu/lib/python3.9/site-packages (from matplotlib) (1.26.4)\n",
      "Requirement already satisfied: packaging>=20.0 in /home/alan/miniconda3/envs/ml_gpu/lib/python3.9/site-packages (from matplotlib) (23.2)\n",
      "Requirement already satisfied: pillow>=8 in /home/alan/miniconda3/envs/ml_gpu/lib/python3.9/site-packages (from matplotlib) (10.3.0)\n",
      "Requirement already satisfied: pyparsing>=2.3.1 in /home/alan/miniconda3/envs/ml_gpu/lib/python3.9/site-packages (from matplotlib) (3.0.9)\n",
      "Requirement already satisfied: python-dateutil>=2.7 in /home/alan/miniconda3/envs/ml_gpu/lib/python3.9/site-packages (from matplotlib) (2.9.0.post0)\n",
      "Requirement already satisfied: importlib-resources>=3.2.0 in /home/alan/miniconda3/envs/ml_gpu/lib/python3.9/site-packages (from matplotlib) (6.1.1)\n",
      "Requirement already satisfied: zipp>=3.1.0 in /home/alan/miniconda3/envs/ml_gpu/lib/python3.9/site-packages (from importlib-resources>=3.2.0->matplotlib) (3.17.0)\n",
      "Requirement already satisfied: six>=1.5 in /home/alan/miniconda3/envs/ml_gpu/lib/python3.9/site-packages (from python-dateutil>=2.7->matplotlib) (1.16.0)\n",
      "Note: you may need to restart the kernel to use updated packages.\n"
     ]
    }
   ],
   "source": [
    "pip install matplotlib"
   ]
  },
  {
   "cell_type": "code",
   "execution_count": 14,
   "id": "7af2c770-485a-4001-88c4-f15e75addd5e",
   "metadata": {},
   "outputs": [
    {
     "name": "stdout",
     "output_type": "stream",
     "text": [
      "/home/alan/Desktop/code/ml_framework/src/ml_framework/data/osm/data/Helsinki.osm.pbf\n"
     ]
    }
   ],
   "source": [
    "from pyrosm import get_data\n",
    "# Download data for the city of Helsinki\n",
    "import os\n",
    "if not os.path.exists(\"data\"):\n",
    "    os.mkdir(\"data\")\n",
    "fp = get_data(\"Helsinki\", directory=\"data\")\n",
    "print(fp)\n"
   ]
  },
  {
   "cell_type": "code",
   "execution_count": 15,
   "id": "ed4248f3-157a-4585-bdff-376c7ca66047",
   "metadata": {},
   "outputs": [],
   "source": [
    "from pyrosm import OSM\n",
    "\n",
    "osm = OSM(fp)"
   ]
  },
  {
   "cell_type": "code",
   "execution_count": 16,
   "id": "95b0fcdb-bbdf-4ba1-8651-23d67a65dc5e",
   "metadata": {},
   "outputs": [
    {
     "ename": "AttributeError",
     "evalue": "module 'numpy' has no attribute 'float'.\n`np.float` was a deprecated alias for the builtin `float`. To avoid this error in existing code, use `float` by itself. Doing this will not modify any behavior and is safe. If you specifically wanted the numpy scalar type, use `np.float64` here.\nThe aliases was originally deprecated in NumPy 1.20; for more details and guidance see the original release note at:\n    https://numpy.org/devdocs/release/1.20.0-notes.html#deprecations",
     "output_type": "error",
     "traceback": [
      "\u001b[0;31m---------------------------------------------------------------------------\u001b[0m",
      "\u001b[0;31mAttributeError\u001b[0m                            Traceback (most recent call last)",
      "Cell \u001b[0;32mIn[16], line 2\u001b[0m\n\u001b[1;32m      1\u001b[0m my_filter \u001b[38;5;241m=\u001b[39m {\u001b[38;5;124m\"\u001b[39m\u001b[38;5;124mbuilding\u001b[39m\u001b[38;5;124m\"\u001b[39m: [\u001b[38;5;124m\"\u001b[39m\u001b[38;5;124mresidential\u001b[39m\u001b[38;5;124m\"\u001b[39m, \u001b[38;5;124m\"\u001b[39m\u001b[38;5;124mretail\u001b[39m\u001b[38;5;124m\"\u001b[39m]}\n\u001b[0;32m----> 2\u001b[0m buildings \u001b[38;5;241m=\u001b[39m \u001b[43mosm\u001b[49m\u001b[38;5;241;43m.\u001b[39;49m\u001b[43mget_buildings\u001b[49m\u001b[43m(\u001b[49m\u001b[43mcustom_filter\u001b[49m\u001b[38;5;241;43m=\u001b[39;49m\u001b[43mmy_filter\u001b[49m\u001b[43m)\u001b[49m\n\u001b[1;32m      4\u001b[0m \u001b[38;5;66;03m# Plot\u001b[39;00m\n\u001b[1;32m      5\u001b[0m title \u001b[38;5;241m=\u001b[39m \u001b[38;5;124m\"\u001b[39m\u001b[38;5;124mFiltered buildings: \u001b[39m\u001b[38;5;124m\"\u001b[39m \u001b[38;5;241m+\u001b[39m \u001b[38;5;124m\"\u001b[39m\u001b[38;5;124m, \u001b[39m\u001b[38;5;124m\"\u001b[39m\u001b[38;5;241m.\u001b[39mjoin(buildings[\u001b[38;5;124m\"\u001b[39m\u001b[38;5;124mbuilding\u001b[39m\u001b[38;5;124m\"\u001b[39m]\u001b[38;5;241m.\u001b[39munique())\n",
      "File \u001b[0;32m~/miniconda3/envs/ml_gpu/lib/python3.9/site-packages/pyrosm/pyrosm.py:265\u001b[0m, in \u001b[0;36mOSM.get_buildings\u001b[0;34m(self, custom_filter, extra_attributes)\u001b[0m\n\u001b[1;32m    262\u001b[0m \u001b[38;5;28;01mif\u001b[39;00m \u001b[38;5;28mself\u001b[39m\u001b[38;5;241m.\u001b[39m_nodes \u001b[38;5;129;01mis\u001b[39;00m \u001b[38;5;28;01mNone\u001b[39;00m \u001b[38;5;129;01mor\u001b[39;00m \u001b[38;5;28mself\u001b[39m\u001b[38;5;241m.\u001b[39m_way_records \u001b[38;5;129;01mis\u001b[39;00m \u001b[38;5;28;01mNone\u001b[39;00m:\n\u001b[1;32m    263\u001b[0m     \u001b[38;5;28mself\u001b[39m\u001b[38;5;241m.\u001b[39m_read_pbf()\n\u001b[0;32m--> 265\u001b[0m gdf \u001b[38;5;241m=\u001b[39m \u001b[43mget_building_data\u001b[49m\u001b[43m(\u001b[49m\n\u001b[1;32m    266\u001b[0m \u001b[43m    \u001b[49m\u001b[38;5;28;43mself\u001b[39;49m\u001b[38;5;241;43m.\u001b[39;49m\u001b[43m_node_coordinates\u001b[49m\u001b[43m,\u001b[49m\n\u001b[1;32m    267\u001b[0m \u001b[43m    \u001b[49m\u001b[38;5;28;43mself\u001b[39;49m\u001b[38;5;241;43m.\u001b[39;49m\u001b[43m_way_records\u001b[49m\u001b[43m,\u001b[49m\n\u001b[1;32m    268\u001b[0m \u001b[43m    \u001b[49m\u001b[38;5;28;43mself\u001b[39;49m\u001b[38;5;241;43m.\u001b[39;49m\u001b[43m_relations\u001b[49m\u001b[43m,\u001b[49m\n\u001b[1;32m    269\u001b[0m \u001b[43m    \u001b[49m\u001b[43mtags_as_columns\u001b[49m\u001b[43m,\u001b[49m\n\u001b[1;32m    270\u001b[0m \u001b[43m    \u001b[49m\u001b[43mcustom_filter\u001b[49m\u001b[43m,\u001b[49m\n\u001b[1;32m    271\u001b[0m \u001b[43m    \u001b[49m\u001b[38;5;28;43mself\u001b[39;49m\u001b[38;5;241;43m.\u001b[39;49m\u001b[43mbounding_box\u001b[49m\u001b[43m,\u001b[49m\n\u001b[1;32m    272\u001b[0m \u001b[43m\u001b[49m\u001b[43m)\u001b[49m\n\u001b[1;32m    274\u001b[0m \u001b[38;5;66;03m# Do not keep node information unless specifically asked for\u001b[39;00m\n\u001b[1;32m    275\u001b[0m \u001b[38;5;66;03m# (they are in a list, and can cause issues when saving the files)\u001b[39;00m\n\u001b[1;32m    276\u001b[0m \u001b[38;5;28;01mif\u001b[39;00m \u001b[38;5;129;01mnot\u001b[39;00m \u001b[38;5;28mself\u001b[39m\u001b[38;5;241m.\u001b[39mkeep_node_info \u001b[38;5;129;01mand\u001b[39;00m gdf \u001b[38;5;129;01mis\u001b[39;00m \u001b[38;5;129;01mnot\u001b[39;00m \u001b[38;5;28;01mNone\u001b[39;00m:\n",
      "File \u001b[0;32m~/miniconda3/envs/ml_gpu/lib/python3.9/site-packages/pyrosm/buildings.py:47\u001b[0m, in \u001b[0;36mget_building_data\u001b[0;34m(node_coordinates, way_records, relations, tags_as_columns, custom_filter, bounding_box)\u001b[0m\n\u001b[1;32m     44\u001b[0m     \u001b[38;5;28;01mreturn\u001b[39;00m \u001b[38;5;28;01mNone\u001b[39;00m\n\u001b[1;32m     46\u001b[0m \u001b[38;5;66;03m# Prepare GeoDataFrame\u001b[39;00m\n\u001b[0;32m---> 47\u001b[0m gdf \u001b[38;5;241m=\u001b[39m \u001b[43mprepare_geodataframe\u001b[49m\u001b[43m(\u001b[49m\n\u001b[1;32m     48\u001b[0m \u001b[43m    \u001b[49m\u001b[43mnodes\u001b[49m\u001b[43m,\u001b[49m\n\u001b[1;32m     49\u001b[0m \u001b[43m    \u001b[49m\u001b[43mnode_coordinates\u001b[49m\u001b[43m,\u001b[49m\n\u001b[1;32m     50\u001b[0m \u001b[43m    \u001b[49m\u001b[43mways\u001b[49m\u001b[43m,\u001b[49m\n\u001b[1;32m     51\u001b[0m \u001b[43m    \u001b[49m\u001b[43mrelations\u001b[49m\u001b[43m,\u001b[49m\n\u001b[1;32m     52\u001b[0m \u001b[43m    \u001b[49m\u001b[43mrelation_ways\u001b[49m\u001b[43m,\u001b[49m\n\u001b[1;32m     53\u001b[0m \u001b[43m    \u001b[49m\u001b[43mtags_as_columns\u001b[49m\u001b[43m,\u001b[49m\n\u001b[1;32m     54\u001b[0m \u001b[43m    \u001b[49m\u001b[43mbounding_box\u001b[49m\u001b[43m,\u001b[49m\n\u001b[1;32m     55\u001b[0m \u001b[43m\u001b[49m\u001b[43m)\u001b[49m\n\u001b[1;32m     56\u001b[0m \u001b[38;5;28;01mreturn\u001b[39;00m gdf\n",
      "File \u001b[0;32m~/miniconda3/envs/ml_gpu/lib/python3.9/site-packages/pyrosm/frames.pyx:134\u001b[0m, in \u001b[0;36mpyrosm.frames.prepare_geodataframe\u001b[0;34m()\u001b[0m\n",
      "File \u001b[0;32m~/miniconda3/envs/ml_gpu/lib/python3.9/site-packages/pyrosm/frames.pyx:141\u001b[0m, in \u001b[0;36mpyrosm.frames.prepare_geodataframe\u001b[0;34m()\u001b[0m\n",
      "File \u001b[0;32m~/miniconda3/envs/ml_gpu/lib/python3.9/site-packages/pyrosm/frames.pyx:54\u001b[0m, in \u001b[0;36mpyrosm.frames.prepare_way_gdf\u001b[0;34m()\u001b[0m\n",
      "File \u001b[0;32m~/miniconda3/envs/ml_gpu/lib/python3.9/site-packages/pyrosm/geometry.pyx:431\u001b[0m, in \u001b[0;36mpyrosm.geometry.create_way_geometries\u001b[0;34m()\u001b[0m\n",
      "File \u001b[0;32m~/miniconda3/envs/ml_gpu/lib/python3.9/site-packages/pyrosm/geometry.pyx:405\u001b[0m, in \u001b[0;36mpyrosm.geometry._create_way_geometries\u001b[0;34m()\u001b[0m\n",
      "File \u001b[0;32m~/miniconda3/envs/ml_gpu/lib/python3.9/site-packages/pyrosm/geometry.pyx:330\u001b[0m, in \u001b[0;36mpyrosm.geometry.create_linestring_geometry\u001b[0;34m()\u001b[0m\n",
      "File \u001b[0;32m~/miniconda3/envs/ml_gpu/lib/python3.9/site-packages/pyrosm/geometry.pyx:312\u001b[0m, in \u001b[0;36mpyrosm.geometry.create_linestring_geometry\u001b[0;34m()\u001b[0m\n",
      "File \u001b[0;32m~/miniconda3/envs/ml_gpu/lib/python3.9/site-packages/numpy/__init__.py:324\u001b[0m, in \u001b[0;36m__getattr__\u001b[0;34m(attr)\u001b[0m\n\u001b[1;32m    319\u001b[0m     warnings\u001b[38;5;241m.\u001b[39mwarn(\n\u001b[1;32m    320\u001b[0m         \u001b[38;5;124mf\u001b[39m\u001b[38;5;124m\"\u001b[39m\u001b[38;5;124mIn the future `np.\u001b[39m\u001b[38;5;132;01m{\u001b[39;00mattr\u001b[38;5;132;01m}\u001b[39;00m\u001b[38;5;124m` will be defined as the \u001b[39m\u001b[38;5;124m\"\u001b[39m\n\u001b[1;32m    321\u001b[0m         \u001b[38;5;124m\"\u001b[39m\u001b[38;5;124mcorresponding NumPy scalar.\u001b[39m\u001b[38;5;124m\"\u001b[39m, \u001b[38;5;167;01mFutureWarning\u001b[39;00m, stacklevel\u001b[38;5;241m=\u001b[39m\u001b[38;5;241m2\u001b[39m)\n\u001b[1;32m    323\u001b[0m \u001b[38;5;28;01mif\u001b[39;00m attr \u001b[38;5;129;01min\u001b[39;00m __former_attrs__:\n\u001b[0;32m--> 324\u001b[0m     \u001b[38;5;28;01mraise\u001b[39;00m \u001b[38;5;167;01mAttributeError\u001b[39;00m(__former_attrs__[attr])\n\u001b[1;32m    326\u001b[0m \u001b[38;5;28;01mif\u001b[39;00m attr \u001b[38;5;241m==\u001b[39m \u001b[38;5;124m'\u001b[39m\u001b[38;5;124mtesting\u001b[39m\u001b[38;5;124m'\u001b[39m:\n\u001b[1;32m    327\u001b[0m     \u001b[38;5;28;01mimport\u001b[39;00m \u001b[38;5;21;01mnumpy\u001b[39;00m\u001b[38;5;21;01m.\u001b[39;00m\u001b[38;5;21;01mtesting\u001b[39;00m \u001b[38;5;28;01mas\u001b[39;00m \u001b[38;5;21;01mtesting\u001b[39;00m\n",
      "\u001b[0;31mAttributeError\u001b[0m: module 'numpy' has no attribute 'float'.\n`np.float` was a deprecated alias for the builtin `float`. To avoid this error in existing code, use `float` by itself. Doing this will not modify any behavior and is safe. If you specifically wanted the numpy scalar type, use `np.float64` here.\nThe aliases was originally deprecated in NumPy 1.20; for more details and guidance see the original release note at:\n    https://numpy.org/devdocs/release/1.20.0-notes.html#deprecations"
     ]
    }
   ],
   "source": [
    "my_filter = {\"building\": [\"residential\", \"retail\"]}\n",
    "buildings = osm.get_buildings(custom_filter=my_filter)\n",
    "\n",
    "# Plot\n",
    "title = \"Filtered buildings: \" + \", \".join(buildings[\"building\"].unique())\n",
    "ax = buildings.plot(column=\"building\", cmap=\"RdBu\", legend=True)\n",
    "ax.set_title(title);\n"
   ]
  },
  {
   "cell_type": "markdown",
   "id": "0ec18a70-f33d-4793-948f-2f65a1e4bc1d",
   "metadata": {},
   "source": [
    "# TODO\n",
    "\n",
    "-----\n",
    "\n",
    "A function which gets information in a bounding box (which will be paired with an image)"
   ]
  },
  {
   "cell_type": "code",
   "execution_count": null,
   "id": "d4c0b2c6-a160-40ce-bda1-51d9943a3895",
   "metadata": {},
   "outputs": [],
   "source": []
  }
 ],
 "metadata": {
  "kernelspec": {
   "display_name": "Python 3 (ipykernel)",
   "language": "python",
   "name": "python3"
  },
  "language_info": {
   "codemirror_mode": {
    "name": "ipython",
    "version": 3
   },
   "file_extension": ".py",
   "mimetype": "text/x-python",
   "name": "python",
   "nbconvert_exporter": "python",
   "pygments_lexer": "ipython3",
   "version": "3.9.19"
  }
 },
 "nbformat": 4,
 "nbformat_minor": 5
}
